{
 "cells": [
  {
   "cell_type": "code",
   "execution_count": 1,
   "metadata": {},
   "outputs": [
    {
     "name": "stdout",
     "output_type": "stream",
     "text": [
      "Requirement already satisfied: Flask in c:\\users\\hp\\appdata\\local\\programs\\python\\python312\\lib\\site-packages (3.0.3)\n",
      "Requirement already satisfied: Werkzeug>=3.0.0 in c:\\users\\hp\\appdata\\local\\programs\\python\\python312\\lib\\site-packages (from Flask) (3.0.3)\n",
      "Requirement already satisfied: Jinja2>=3.1.2 in c:\\users\\hp\\appdata\\local\\programs\\python\\python312\\lib\\site-packages (from Flask) (3.1.2)\n",
      "Requirement already satisfied: itsdangerous>=2.1.2 in c:\\users\\hp\\appdata\\local\\programs\\python\\python312\\lib\\site-packages (from Flask) (2.2.0)\n",
      "Requirement already satisfied: click>=8.1.3 in c:\\users\\hp\\appdata\\local\\programs\\python\\python312\\lib\\site-packages (from Flask) (8.1.7)\n",
      "Requirement already satisfied: blinker>=1.6.2 in c:\\users\\hp\\appdata\\local\\programs\\python\\python312\\lib\\site-packages (from Flask) (1.8.2)\n",
      "Requirement already satisfied: importlib-metadata>=3.6.0 in c:\\users\\hp\\appdata\\roaming\\python\\python39\\site-packages (from Flask) (7.0.2)\n",
      "Requirement already satisfied: colorama in c:\\users\\hp\\appdata\\roaming\\python\\python39\\site-packages (from click>=8.1.3->Flask) (0.4.6)\n",
      "Requirement already satisfied: zipp>=0.5 in c:\\users\\hp\\appdata\\roaming\\python\\python39\\site-packages (from importlib-metadata>=3.6.0->Flask) (3.18.0)\n",
      "Requirement already satisfied: MarkupSafe>=2.0 in c:\\users\\hp\\appdata\\local\\programs\\python\\python312\\lib\\site-packages (from Jinja2>=3.1.2->Flask) (2.1.3)\n"
     ]
    },
    {
     "name": "stderr",
     "output_type": "stream",
     "text": [
      "\n",
      "[notice] A new release of pip is available: 24.2 -> 24.3.1\n",
      "[notice] To update, run: python.exe -m pip install --upgrade pip\n"
     ]
    }
   ],
   "source": [
    "! pip install Flask"
   ]
  },
  {
   "cell_type": "code",
   "execution_count": 2,
   "metadata": {},
   "outputs": [
    {
     "name": "stdout",
     "output_type": "stream",
     "text": [
      "Requirement already satisfied: pyodbc in c:\\users\\hp\\appdata\\local\\programs\\python\\python312\\lib\\site-packages (5.2.0)\n"
     ]
    },
    {
     "name": "stderr",
     "output_type": "stream",
     "text": [
      "\n",
      "[notice] A new release of pip is available: 24.2 -> 24.3.1\n",
      "[notice] To update, run: python.exe -m pip install --upgrade pip\n"
     ]
    }
   ],
   "source": [
    "! pip install pyodbc"
   ]
  },
  {
   "cell_type": "code",
   "execution_count": 5,
   "metadata": {},
   "outputs": [],
   "source": [
    "from flask import Flask, jsonify\n",
    "import pyodbc\n",
    "\n",
    "app = Flask(__name__)\n",
    "\n",
    "def get_db_connection():\n",
    "    server = 'maintpredsqldbserver.database.windows.net'\n",
    "    database = 'MaintPredSqlDb'\n",
    "    username = 'sqldbMaintPred'\n",
    "    password = 'MaintPred1234@'\n",
    "    driver = '{ODBC Driver 17 for SQL Server}'\n",
    "\n",
    "    connection_string = f'DRIVER={driver};SERVER={server};PORT=1433;DATABASE={database};UID={username};PWD={password};Encrypt=yes;TrustServerCertificate=no;'\n",
    "\n",
    "    try:\n",
    "        conn = pyodbc.connect(connection_string)\n",
    "        return conn\n",
    "    except Exception as e:\n",
    "        print(f\"Error connecting to the database: {e}\")\n",
    "        return None\n",
    "\n",
    "@app.route('/api/vehicles', methods=['GET'])\n",
    "def get_vehicles():\n",
    "    conn = get_db_connection()\n",
    "    if not conn:\n",
    "        return jsonify({\"error\": \"Failed to connect to the database\"}), 500\n",
    "\n",
    "    cursor = conn.cursor()\n",
    "    query = \"SELECT * FROM VehicleInfo\"\n",
    "\n",
    "    try:\n",
    "        cursor.execute(query)\n",
    "        rows = cursor.fetchall()\n",
    "        vehicles = [\n",
    "            {'id': row[0],\n",
    "             'date': row[1],\n",
    "             'Mileage': row[2],\n",
    "             'Reported_Issues': row[3],\n",
    "             'Vehicle_Age': row[4],\n",
    "             'Engine_Size': row[5],\n",
    "             'Odometer_Reading': row[6],\n",
    "             'Insurance_Premium': row[7],\n",
    "             'Service_History': row[8],\n",
    "             'Accident_History': row[9],\n",
    "             'Fuel_Efficiency': row[10],\n",
    "             'Vehicle_Model': row[11],\n",
    "             'Maintenance_History': row[12],\n",
    "             'Fuel_Type': row[13],\n",
    "             'Transmission_Type': row[14],\n",
    "             'Owner_Type': row[15],\n",
    "             'Tire_Condition': row[16],\n",
    "             'Brake_Condition': row[17],\n",
    "             'Battery_Status': row[18],\n",
    "             'prediction': row[19]}\n",
    "            for row in rows\n",
    "        ]\n",
    "        return jsonify(vehicles)\n",
    "    except Exception as e:\n",
    "        print(f\"Error fetching data: {e}\")\n",
    "        return jsonify({\"error\": \"Failed to fetch data\"}), 500\n",
    "    finally:\n",
    "        conn.close()\n"
   ]
  }
 ],
 "metadata": {
  "kernelspec": {
   "display_name": "Python 3",
   "language": "python",
   "name": "python3"
  },
  "language_info": {
   "codemirror_mode": {
    "name": "ipython",
    "version": 3
   },
   "file_extension": ".py",
   "mimetype": "text/x-python",
   "name": "python",
   "nbconvert_exporter": "python",
   "pygments_lexer": "ipython3",
   "version": "3.9.13"
  }
 },
 "nbformat": 4,
 "nbformat_minor": 2
}
